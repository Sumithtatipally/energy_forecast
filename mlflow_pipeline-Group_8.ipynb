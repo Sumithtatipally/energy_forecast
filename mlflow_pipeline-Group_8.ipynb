{
 "cells": [
  {
   "cell_type": "markdown",
   "id": "c144d167",
   "metadata": {},
   "source": [
    "## Creation of ML Pipeline to monitor and choose the best model to be deployed."
   ]
  },
  {
   "cell_type": "code",
   "execution_count": 1,
   "id": "d7e63961",
   "metadata": {},
   "outputs": [],
   "source": [
    "# !pip install mlflow\n",
    "# !pip install pmdarima\n",
    "# # !pip install fbprophet\n",
    "# !python -m pip install prophet"
   ]
  },
  {
   "cell_type": "code",
   "execution_count": 15,
   "id": "e76716fe",
   "metadata": {},
   "outputs": [],
   "source": [
    "import mlflow\n",
    "import pandas as pd\n",
    "import pmdarima as pm\n",
    "import numpy as np\n",
    "# from fbprophet import Prophet\n",
    "from prophet import Prophet\n",
    "from prophet.diagnostics import cross_validation, performance_metrics\n",
    "from sklearn.metrics import mean_squared_error\n",
    "from sklearn.model_selection import train_test_split\n",
    "\n",
    "from statsmodels.tsa.arima.model import ARIMA\n",
    "from pmdarima.arima import auto_arima\n",
    "from sklearn.metrics import mean_squared_error, mean_absolute_error, r2_score, explained_variance_score\n",
    "from sklearn.metrics import mean_absolute_percentage_error, mean_squared_error, mean_absolute_error\n",
    "import warnings\n",
    "warnings.filterwarnings(\"ignore\", category=FutureWarning)\n",
    "from statsmodels.tsa.statespace.sarimax import SARIMAX\n",
    "from sklearn.metrics import mean_squared_error"
   ]
  },
  {
   "cell_type": "markdown",
   "id": "5036f405",
   "metadata": {},
   "source": [
    "## Setup of MLFLow UI"
   ]
  },
  {
   "cell_type": "code",
   "execution_count": 3,
   "id": "b929a6af",
   "metadata": {},
   "outputs": [
    {
     "data": {
      "text/plain": [
       "<Experiment: artifact_location='mlflow-artifacts:/312500159318999852', creation_time=1677306715321, experiment_id='312500159318999852', last_update_time=1677306715321, lifecycle_stage='active', name='forecasting-model', tags={}>"
      ]
     },
     "execution_count": 3,
     "metadata": {},
     "output_type": "execute_result"
    }
   ],
   "source": [
    "# Set up mlflow tracking\n",
    "mlflow.set_tracking_uri(\"http://127.0.0.1:5000\")\n",
    "mlflow.set_experiment(\"forecasting-model\")\n"
   ]
  },
  {
   "cell_type": "markdown",
   "id": "d3cd83f7",
   "metadata": {},
   "source": [
    "## Splitting data into training - 17 years and test - 5 years"
   ]
  },
  {
   "cell_type": "code",
   "execution_count": 4,
   "id": "d368705e",
   "metadata": {},
   "outputs": [],
   "source": [
    "# Load data\n",
    "data = pd.read_csv(\"Electricity.csv\")\n",
    "data = data.drop(['Unnamed: 0','location','stateDescription','sectorid','fueltypeid','fuelTypeDescription','total-consumption-btu-units'], axis=1)\n",
    "data['period'] = pd.to_datetime(data['period'], format='%Y-%m', errors='coerce').dropna()\n",
    "data.rename(columns = {'period':'ds','total-consumption-btu':'y','sectorDescription':'sector'}, inplace = True)\n",
    "\n",
    "dict = {}\n",
    "lst = list(data['sector'].unique())\n",
    "\n",
    "for i in range(len(lst)):\n",
    "    dict[i] = data[data['sector']==lst[i]]\n",
    "    "
   ]
  },
  {
   "cell_type": "code",
   "execution_count": 5,
   "id": "474ce285",
   "metadata": {},
   "outputs": [
    {
     "data": {
      "text/html": [
       "<div>\n",
       "<style scoped>\n",
       "    .dataframe tbody tr th:only-of-type {\n",
       "        vertical-align: middle;\n",
       "    }\n",
       "\n",
       "    .dataframe tbody tr th {\n",
       "        vertical-align: top;\n",
       "    }\n",
       "\n",
       "    .dataframe thead th {\n",
       "        text-align: right;\n",
       "    }\n",
       "</style>\n",
       "<table border=\"1\" class=\"dataframe\">\n",
       "  <thead>\n",
       "    <tr style=\"text-align: right;\">\n",
       "      <th></th>\n",
       "      <th>ds</th>\n",
       "      <th>sector</th>\n",
       "      <th>y</th>\n",
       "    </tr>\n",
       "  </thead>\n",
       "  <tbody>\n",
       "    <tr>\n",
       "      <th>10</th>\n",
       "      <td>2022-11-01</td>\n",
       "      <td>Industrial Non-CHP</td>\n",
       "      <td>5.01918</td>\n",
       "    </tr>\n",
       "    <tr>\n",
       "      <th>22</th>\n",
       "      <td>2022-10-01</td>\n",
       "      <td>Industrial Non-CHP</td>\n",
       "      <td>5.19986</td>\n",
       "    </tr>\n",
       "    <tr>\n",
       "      <th>36</th>\n",
       "      <td>2022-09-01</td>\n",
       "      <td>Industrial Non-CHP</td>\n",
       "      <td>5.60636</td>\n",
       "    </tr>\n",
       "    <tr>\n",
       "      <th>45</th>\n",
       "      <td>2022-08-01</td>\n",
       "      <td>Industrial Non-CHP</td>\n",
       "      <td>5.94788</td>\n",
       "    </tr>\n",
       "    <tr>\n",
       "      <th>60</th>\n",
       "      <td>2022-07-01</td>\n",
       "      <td>Industrial Non-CHP</td>\n",
       "      <td>6.00998</td>\n",
       "    </tr>\n",
       "    <tr>\n",
       "      <th>...</th>\n",
       "      <td>...</td>\n",
       "      <td>...</td>\n",
       "      <td>...</td>\n",
       "    </tr>\n",
       "    <tr>\n",
       "      <th>3623</th>\n",
       "      <td>2001-05-01</td>\n",
       "      <td>Industrial Non-CHP</td>\n",
       "      <td>7.23900</td>\n",
       "    </tr>\n",
       "    <tr>\n",
       "      <th>3632</th>\n",
       "      <td>2001-04-01</td>\n",
       "      <td>Industrial Non-CHP</td>\n",
       "      <td>7.08400</td>\n",
       "    </tr>\n",
       "    <tr>\n",
       "      <th>3649</th>\n",
       "      <td>2001-03-01</td>\n",
       "      <td>Industrial Non-CHP</td>\n",
       "      <td>8.43800</td>\n",
       "    </tr>\n",
       "    <tr>\n",
       "      <th>3656</th>\n",
       "      <td>2001-02-01</td>\n",
       "      <td>Industrial Non-CHP</td>\n",
       "      <td>6.78400</td>\n",
       "    </tr>\n",
       "    <tr>\n",
       "      <th>3668</th>\n",
       "      <td>2001-01-01</td>\n",
       "      <td>Industrial Non-CHP</td>\n",
       "      <td>7.44800</td>\n",
       "    </tr>\n",
       "  </tbody>\n",
       "</table>\n",
       "<p>263 rows × 3 columns</p>\n",
       "</div>"
      ],
      "text/plain": [
       "             ds              sector        y\n",
       "10   2022-11-01  Industrial Non-CHP  5.01918\n",
       "22   2022-10-01  Industrial Non-CHP  5.19986\n",
       "36   2022-09-01  Industrial Non-CHP  5.60636\n",
       "45   2022-08-01  Industrial Non-CHP  5.94788\n",
       "60   2022-07-01  Industrial Non-CHP  6.00998\n",
       "...         ...                 ...      ...\n",
       "3623 2001-05-01  Industrial Non-CHP  7.23900\n",
       "3632 2001-04-01  Industrial Non-CHP  7.08400\n",
       "3649 2001-03-01  Industrial Non-CHP  8.43800\n",
       "3656 2001-02-01  Industrial Non-CHP  6.78400\n",
       "3668 2001-01-01  Industrial Non-CHP  7.44800\n",
       "\n",
       "[263 rows x 3 columns]"
      ]
     },
     "execution_count": 5,
     "metadata": {},
     "output_type": "execute_result"
    }
   ],
   "source": [
    "dict[10]"
   ]
  },
  {
   "cell_type": "code",
   "execution_count": 20,
   "id": "b8560a02",
   "metadata": {},
   "outputs": [],
   "source": [
    "# Split data into training and testing sets on example sector of Coal Consumption\n",
    "split_date = '2017-12-01'\n",
    "\n",
    "df_train = dict[0].loc[dict[0]['ds'] <= split_date]\n",
    "df_test = dict[0].loc[dict[0]['ds'] > split_date]\n"
   ]
  },
  {
   "cell_type": "markdown",
   "id": "9f47590f",
   "metadata": {},
   "source": [
    "## Track ARIMA in MLFLOW"
   ]
  },
  {
   "cell_type": "code",
   "execution_count": 7,
   "id": "c1770fff",
   "metadata": {},
   "outputs": [
    {
     "name": "stdout",
     "output_type": "stream",
     "text": [
      "Performing stepwise search to minimize aic\n",
      " ARIMA(2,0,2)(0,0,0)[0]             : AIC=inf, Time=0.23 sec\n",
      " ARIMA(0,0,0)(0,0,0)[0]             : AIC=3914.869, Time=0.01 sec\n",
      " ARIMA(1,0,0)(0,0,0)[0]             : AIC=inf, Time=0.01 sec\n",
      " ARIMA(0,0,1)(0,0,0)[0]             : AIC=3656.597, Time=0.06 sec\n",
      " ARIMA(1,0,1)(0,0,0)[0]             : AIC=2931.490, Time=0.03 sec\n",
      " ARIMA(2,0,1)(0,0,0)[0]             : AIC=2932.933, Time=0.07 sec\n"
     ]
    },
    {
     "name": "stderr",
     "output_type": "stream",
     "text": [
      "/Users/prajuktapradhan/opt/anaconda3/lib/python3.9/site-packages/statsmodels/tsa/statespace/sarimax.py:1899: RuntimeWarning: invalid value encountered in reciprocal\n",
      "  return np.roots(self.polynomial_reduced_ar)**-1\n",
      "/Users/prajuktapradhan/opt/anaconda3/lib/python3.9/site-packages/statsmodels/tsa/statespace/sarimax.py:1906: RuntimeWarning: invalid value encountered in reciprocal\n",
      "  return np.roots(self.polynomial_reduced_ma)**-1\n",
      "/Users/prajuktapradhan/opt/anaconda3/lib/python3.9/site-packages/statsmodels/tsa/statespace/sarimax.py:1899: RuntimeWarning: invalid value encountered in reciprocal\n",
      "  return np.roots(self.polynomial_reduced_ar)**-1\n",
      "/Users/prajuktapradhan/opt/anaconda3/lib/python3.9/site-packages/statsmodels/tsa/statespace/sarimax.py:1906: RuntimeWarning: invalid value encountered in reciprocal\n",
      "  return np.roots(self.polynomial_reduced_ma)**-1\n",
      "/Users/prajuktapradhan/opt/anaconda3/lib/python3.9/site-packages/statsmodels/tsa/statespace/sarimax.py:1906: RuntimeWarning: invalid value encountered in reciprocal\n",
      "  return np.roots(self.polynomial_reduced_ma)**-1\n",
      "/Users/prajuktapradhan/opt/anaconda3/lib/python3.9/site-packages/statsmodels/tsa/statespace/sarimax.py:1899: RuntimeWarning: invalid value encountered in reciprocal\n",
      "  return np.roots(self.polynomial_reduced_ar)**-1\n"
     ]
    },
    {
     "name": "stdout",
     "output_type": "stream",
     "text": [
      " ARIMA(1,0,2)(0,0,0)[0]             : AIC=2875.193, Time=0.11 sec\n",
      " ARIMA(0,0,2)(0,0,0)[0]             : AIC=3453.025, Time=0.09 sec\n"
     ]
    },
    {
     "name": "stderr",
     "output_type": "stream",
     "text": [
      "/Users/prajuktapradhan/opt/anaconda3/lib/python3.9/site-packages/statsmodels/tsa/statespace/sarimax.py:1899: RuntimeWarning: invalid value encountered in reciprocal\n",
      "  return np.roots(self.polynomial_reduced_ar)**-1\n"
     ]
    },
    {
     "name": "stdout",
     "output_type": "stream",
     "text": [
      " ARIMA(1,0,3)(0,0,0)[0]             : AIC=inf, Time=0.17 sec\n",
      " ARIMA(0,0,3)(0,0,0)[0]             : AIC=inf, Time=0.11 sec\n",
      " ARIMA(2,0,3)(0,0,0)[0]             : AIC=inf, Time=0.20 sec\n",
      " ARIMA(1,0,2)(0,0,0)[0] intercept   : AIC=2837.040, Time=0.05 sec\n",
      " ARIMA(0,0,2)(0,0,0)[0] intercept   : AIC=2834.318, Time=0.07 sec\n",
      " ARIMA(0,0,1)(0,0,0)[0] intercept   : AIC=2862.983, Time=0.05 sec\n"
     ]
    },
    {
     "name": "stderr",
     "output_type": "stream",
     "text": [
      "/Users/prajuktapradhan/opt/anaconda3/lib/python3.9/site-packages/statsmodels/tsa/statespace/sarimax.py:1899: RuntimeWarning: invalid value encountered in reciprocal\n",
      "  return np.roots(self.polynomial_reduced_ar)**-1\n",
      "/Users/prajuktapradhan/opt/anaconda3/lib/python3.9/site-packages/statsmodels/tsa/statespace/sarimax.py:1906: RuntimeWarning: invalid value encountered in reciprocal\n",
      "  return np.roots(self.polynomial_reduced_ma)**-1\n"
     ]
    },
    {
     "name": "stdout",
     "output_type": "stream",
     "text": [
      " ARIMA(0,0,3)(0,0,0)[0] intercept   : AIC=2831.439, Time=0.10 sec\n",
      " ARIMA(1,0,3)(0,0,0)[0] intercept   : AIC=2837.389, Time=0.08 sec\n",
      " ARIMA(0,0,4)(0,0,0)[0] intercept   : AIC=2802.666, Time=0.11 sec\n"
     ]
    },
    {
     "name": "stderr",
     "output_type": "stream",
     "text": [
      "/Users/prajuktapradhan/opt/anaconda3/lib/python3.9/site-packages/statsmodels/tsa/statespace/sarimax.py:1899: RuntimeWarning: invalid value encountered in reciprocal\n",
      "  return np.roots(self.polynomial_reduced_ar)**-1\n",
      "/Users/prajuktapradhan/opt/anaconda3/lib/python3.9/site-packages/statsmodels/tsa/statespace/sarimax.py:1899: RuntimeWarning: invalid value encountered in reciprocal\n",
      "  return np.roots(self.polynomial_reduced_ar)**-1\n"
     ]
    },
    {
     "name": "stdout",
     "output_type": "stream",
     "text": [
      " ARIMA(1,0,4)(0,0,0)[0] intercept   : AIC=2800.550, Time=0.10 sec\n",
      " ARIMA(2,0,4)(0,0,0)[0] intercept   : AIC=inf, Time=0.31 sec\n"
     ]
    },
    {
     "name": "stderr",
     "output_type": "stream",
     "text": [
      "/Users/prajuktapradhan/opt/anaconda3/lib/python3.9/site-packages/statsmodels/tsa/statespace/sarimax.py:1899: RuntimeWarning: invalid value encountered in reciprocal\n",
      "  return np.roots(self.polynomial_reduced_ar)**-1\n"
     ]
    },
    {
     "name": "stdout",
     "output_type": "stream",
     "text": [
      " ARIMA(1,0,5)(0,0,0)[0] intercept   : AIC=2811.335, Time=0.31 sec\n",
      " ARIMA(0,0,5)(0,0,0)[0] intercept   : AIC=2799.213, Time=0.19 sec\n",
      " ARIMA(0,0,5)(0,0,0)[0]             : AIC=inf, Time=0.27 sec\n",
      "\n",
      "Best model:  ARIMA(0,0,5)(0,0,0)[0] intercept\n",
      "Total fit time: 2.750 seconds\n"
     ]
    },
    {
     "name": "stderr",
     "output_type": "stream",
     "text": [
      "/Users/prajuktapradhan/opt/anaconda3/lib/python3.9/site-packages/statsmodels/tsa/base/tsa_model.py:834: ValueWarning: No supported index is available. Prediction results will be given with an integer index beginning at `start`.\n",
      "  return get_prediction_index(\n",
      "/Users/prajuktapradhan/opt/anaconda3/lib/python3.9/site-packages/_distutils_hack/__init__.py:33: UserWarning: Setuptools is replacing distutils.\n",
      "  warnings.warn(\"Setuptools is replacing distutils.\")\n"
     ]
    }
   ],
   "source": [
    "# Start mlflow run for ARIMA model\n",
    "\n",
    "with mlflow.start_run(run_name = 'PMDARIMA'):\n",
    "    # Find the best ARIMA model using auto_arima\n",
    "    arima_model = pm.auto_arima(df_train['y'], seasonal=False, trace=True, error_action='ignore', suppress_warnings=True)\n",
    "\n",
    "    # Make predictions on test set\n",
    "    y_pred = arima_model.predict(n_periods=len(df_test['y']), nfreq='MS')\n",
    "\n",
    "    # Calculate mean squared error\n",
    "    mse = mean_squared_error(df_test['y'], y_pred)\n",
    "    mae = mean_absolute_error(df_test['y'], y_pred)\n",
    "    rmse = np.sqrt(mse)\n",
    "    mape = mean_absolute_percentage_error(df_test['y'], y_pred)\n",
    "    r2 = r2_score(df_test['y'], y_pred)\n",
    "    variance = explained_variance_score(df_test['y'], y_pred)\n",
    "\n",
    "    # Log model parameters and metrics to mlflow\n",
    "    mlflow.log_param(\"model\", \"ARIMA\")\n",
    "    mlflow.log_param(\"test_size\", 0.23)\n",
    "    mlflow.log_metric(\"rmse\", rmse)\n",
    "    mlflow.log_metric(\"mape\", mape)\n",
    "    mlflow.log_metric('r2_score',r2)\n",
    "    mlflow.log_metric('explained_variance_score',variance)\n",
    "\n",
    "    # Save model as artifact\n",
    "    mlflow.pmdarima.log_model(arima_model, \"model\")\n"
   ]
  },
  {
   "cell_type": "markdown",
   "id": "e29a6f52",
   "metadata": {},
   "source": [
    "## Track SARIMA in MLFLOW"
   ]
  },
  {
   "cell_type": "code",
   "execution_count": 8,
   "id": "c528520e",
   "metadata": {},
   "outputs": [
    {
     "name": "stderr",
     "output_type": "stream",
     "text": [
      "/Users/prajuktapradhan/opt/anaconda3/lib/python3.9/site-packages/statsmodels/tsa/base/tsa_model.py:471: ValueWarning: An unsupported index was provided and will be ignored when e.g. forecasting.\n",
      "  self._init_dates(dates, freq)\n",
      "/Users/prajuktapradhan/opt/anaconda3/lib/python3.9/site-packages/statsmodels/tsa/base/tsa_model.py:471: ValueWarning: An unsupported index was provided and will be ignored when e.g. forecasting.\n",
      "  self._init_dates(dates, freq)\n",
      " This problem is unconstrained.\n"
     ]
    },
    {
     "name": "stdout",
     "output_type": "stream",
     "text": [
      "RUNNING THE L-BFGS-B CODE\n",
      "\n",
      "           * * *\n",
      "\n",
      "Machine precision = 2.220D-16\n",
      " N =            5     M =           10\n",
      "\n",
      "At X0         0 variables are exactly at the bounds\n",
      "\n",
      "At iterate    0    f=  5.72116D+00    |proj g|=  7.62036D-02\n",
      "\n",
      "At iterate    5    f=  5.66691D+00    |proj g|=  7.87169D-03\n",
      "\n",
      "At iterate   10    f=  5.66078D+00    |proj g|=  5.52259D-03\n",
      "\n",
      "At iterate   15    f=  5.61836D+00    |proj g|=  4.03782D-02\n",
      "\n",
      "At iterate   20    f=  5.61465D+00    |proj g|=  1.80371D-03\n",
      "\n",
      "At iterate   25    f=  5.61416D+00    |proj g|=  9.89021D-04\n",
      "\n",
      "At iterate   30    f=  5.59915D+00    |proj g|=  6.35998D-02\n",
      "\n",
      "At iterate   35    f=  5.59435D+00    |proj g|=  4.62332D-06\n",
      "\n",
      "           * * *\n",
      "\n",
      "Tit   = total number of iterations\n",
      "Tnf   = total number of function evaluations\n",
      "Tnint = total number of segments explored during Cauchy searches\n",
      "Skip  = number of BFGS updates skipped\n",
      "Nact  = number of active bounds at final generalized Cauchy point\n",
      "Projg = norm of the final projected gradient\n",
      "F     = final function value\n",
      "\n",
      "           * * *\n",
      "\n",
      "   N    Tit     Tnf  Tnint  Skip  Nact     Projg        F\n",
      "    5     35     48      1     0     0   4.623D-06   5.594D+00\n",
      "  F =   5.5943520299909384     \n",
      "\n",
      "CONVERGENCE: NORM_OF_PROJECTED_GRADIENT_<=_PGTOL            \n"
     ]
    },
    {
     "name": "stderr",
     "output_type": "stream",
     "text": [
      "/Users/prajuktapradhan/opt/anaconda3/lib/python3.9/site-packages/statsmodels/tsa/base/tsa_model.py:834: ValueWarning: No supported index is available. Prediction results will be given with an integer index beginning at `start`.\n",
      "  return get_prediction_index(\n"
     ]
    }
   ],
   "source": [
    "# Start mlflow run\n",
    "    \n",
    "with mlflow.start_run(run_name = 'SARIMA'):\n",
    "\n",
    "    # Define SARIMA model\n",
    "    model = SARIMAX(df_train['y'], order=(1, 1, 1), seasonal_order=(1, 1, 1, 12))\n",
    "\n",
    "    # Fit SARIMA model\n",
    "    model_fit = model.fit()\n",
    "\n",
    "    # Make predictions on test set\n",
    "    y_pred = model_fit.forecast(len(df_test['y']))\n",
    "\n",
    "    # Calculate mean squared error\n",
    "    mse = mean_squared_error(df_test['y'], y_pred)\n",
    "    mae = mean_absolute_error(df_test['y'], y_pred)\n",
    "    rmse = np.sqrt(mse)\n",
    "    mape = mean_absolute_percentage_error(df_test['y'], y_pred)\n",
    "    r2 = r2_score(df_test['y'], y_pred)\n",
    "    variance = explained_variance_score(df_test['y'], y_pred)\n",
    "\n",
    "    # Log model parameters and metrics to mlflow\n",
    "    mlflow.log_param(\"model\", \"SARIMA\")\n",
    "    mlflow.log_param(\"test_size\", 0.23)\n",
    "    mlflow.log_metric(\"rmse\", rmse)\n",
    "    mlflow.log_metric(\"mape\", mape)\n",
    "    mlflow.log_metric('r2_score',r2)\n",
    "    mlflow.log_metric('explained_variance_score',variance)\n",
    "\n",
    "    # Save model as artifact\n",
    "    mlflow.statsmodels.autolog(log_models=True, disable=False, exclusive=False, disable_for_unsupported_versions=False, silent=False, registered_model_name='SARIMA')\n"
   ]
  },
  {
   "cell_type": "markdown",
   "id": "aee501cc",
   "metadata": {},
   "source": [
    "## Track Prophet in MLFLOW"
   ]
  },
  {
   "cell_type": "code",
   "execution_count": 25,
   "id": "16d540eb",
   "metadata": {},
   "outputs": [
    {
     "name": "stderr",
     "output_type": "stream",
     "text": [
      "21:31:56 - cmdstanpy - INFO - Chain [1] start processing\n",
      "21:31:56 - cmdstanpy - INFO - Chain [1] done processing\n"
     ]
    }
   ],
   "source": [
    "# Start mlflow run for Prophet model\n",
    "\n",
    "with mlflow.start_run(run_name = 'PROPHET'):\n",
    "    # Prepare data for Prophet model\n",
    "    prophet_data = pd.DataFrame({\"ds\": df_train['ds'], \"y\": df_train['y']})\n",
    "\n",
    "    # Train Prophet model\n",
    "    prophet_model = Prophet()\n",
    "    prophet_model.fit(prophet_data)\n",
    "\n",
    "    # Make predictions on test set\n",
    "    future = prophet_model.make_future_dataframe(periods= len(df_test['y']), freq = 'MS')\n",
    "    forecast = prophet_model.predict(future)[\"yhat\"][-len(df_test['y']):]\n",
    "\n",
    "    # Calculate mean squared error\n",
    "    mse = mean_squared_error(df_test['y'], forecast)\n",
    "    mae = mean_absolute_error(df_test['y'], forecast)\n",
    "    rmse = np.sqrt(mse)\n",
    "    mape = mean_absolute_percentage_error(df_test['y'], forecast)\n",
    "    r2 = r2_score(df_test['y'], forecast)\n",
    "    variance = explained_variance_score(df_test['y'], forecast)\n",
    "\n",
    "    # Log model parameters and metrics to mlflow\n",
    "    mlflow.log_param(\"model\", \"Prophet\")\n",
    "    mlflow.log_param(\"test_size\", 0.23)\n",
    "    mlflow.log_metric(\"rmse\", rmse)\n",
    "    mlflow.log_metric(\"mape\", mape)\n",
    "    mlflow.log_metric('r2_score',r2)\n",
    "    mlflow.log_metric('explained_variance_score',variance)\n",
    "    # Save model as artifact\n",
    "    mlflow.prophet.log_model(prophet_model,\"model\")\n"
   ]
  },
  {
   "cell_type": "code",
   "execution_count": null,
   "id": "b29cf2af",
   "metadata": {},
   "outputs": [],
   "source": []
  }
 ],
 "metadata": {
  "kernelspec": {
   "display_name": "Python 3 (ipykernel)",
   "language": "python",
   "name": "python3"
  },
  "language_info": {
   "codemirror_mode": {
    "name": "ipython",
    "version": 3
   },
   "file_extension": ".py",
   "mimetype": "text/x-python",
   "name": "python",
   "nbconvert_exporter": "python",
   "pygments_lexer": "ipython3",
   "version": "3.9.12"
  }
 },
 "nbformat": 4,
 "nbformat_minor": 5
}
